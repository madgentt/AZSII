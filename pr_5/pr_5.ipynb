{
 "cells": [
  {
   "cell_type": "markdown",
   "metadata": {
    "id": "FKl06fC8MqgR"
   },
   "source": [
    "# Практика 5: Атака с ограниченной памятью (PGD - Projected Gradient Descent)\n",
    "\n",
    "Картунчиков Артем ББМО-01-23"
   ]
  },
  {
   "cell_type": "code",
   "execution_count": 22,
   "metadata": {},
   "outputs": [],
   "source": [
    "import tensorflow as tf\n",
    "from tensorflow.keras.datasets import mnist\n",
    "from tensorflow.keras.utils import to_categorical\n",
    "import torch\n",
    "import torch.nn as nn\n",
    "import foolbox as fb\n",
    "import numpy as np\n",
    "import matplotlib.pyplot as plt\n",
    "import tensorflow as tf"
   ]
  },
  {
   "cell_type": "code",
   "execution_count": 23,
   "metadata": {
    "colab": {
     "base_uri": "https://localhost:8080/"
    },
    "id": "Gt1lcHHdM2Qq",
    "outputId": "4512b90d-c05c-414d-cd48-fe457dced292"
   },
   "outputs": [
    {
     "name": "stderr",
     "output_type": "stream",
     "text": [
      "WARNING:absl:Compiled the loaded model, but the compiled metrics have yet to be built. `model.compile_metrics` will be empty until you train or evaluate the model.\n"
     ]
    },
    {
     "name": "stdout",
     "output_type": "stream",
     "text": [
      "\u001b[1m313/313\u001b[0m \u001b[32m━━━━━━━━━━━━━━━━━━━━\u001b[0m\u001b[37m\u001b[0m \u001b[1m0s\u001b[0m 565us/step - accuracy: 0.9715 - loss: 0.0998\n",
      "Test accuracy on clean images: 0.9754999876022339\n"
     ]
    }
   ],
   "source": [
    "# Загрузка тестовых данных MNIST\n",
    "(_, _), (test_images, test_labels) = mnist.load_data()\n",
    "\n",
    "test_images = test_images / 255.0\n",
    "\n",
    "test_labels = to_categorical(test_labels, num_classes=10)\n",
    "\n",
    "model = tf.keras.models.load_model('mnist_model.h5')\n",
    "\n",
    "test_loss, test_acc = model.evaluate(test_images, test_labels)\n",
    "print(f'Test accuracy on clean images: {test_acc}')"
   ]
  },
  {
   "cell_type": "markdown",
   "metadata": {},
   "source": [
    "Картунчиков Артем ББМО-01-23"
   ]
  },
  {
   "cell_type": "code",
   "execution_count": 24,
   "metadata": {
    "colab": {
     "base_uri": "https://localhost:8080/"
    },
    "id": "lLuiTyrdd_1I",
    "outputId": "0c4e239c-801a-48d8-82c3-9d212a700a83"
   },
   "outputs": [
    {
     "name": "stdout",
     "output_type": "stream",
     "text": [
      "Requirement already satisfied: foolbox in c:\\users\\artem\\appdata\\local\\programs\\python\\python312\\lib\\site-packages (3.3.4)\n",
      "Requirement already satisfied: numpy in c:\\users\\artem\\appdata\\local\\programs\\python\\python312\\lib\\site-packages (from foolbox) (1.26.4)\n",
      "Requirement already satisfied: scipy in c:\\users\\artem\\appdata\\local\\programs\\python\\python312\\lib\\site-packages (from foolbox) (1.14.1)\n",
      "Requirement already satisfied: setuptools in c:\\users\\artem\\appdata\\local\\programs\\python\\python312\\lib\\site-packages (from foolbox) (75.1.0)\n",
      "Requirement already satisfied: eagerpy>=0.30.0 in c:\\users\\artem\\appdata\\local\\programs\\python\\python312\\lib\\site-packages (from foolbox) (0.30.0)\n",
      "Requirement already satisfied: GitPython>=3.0.7 in c:\\users\\artem\\appdata\\local\\programs\\python\\python312\\lib\\site-packages (from foolbox) (3.1.43)\n",
      "Requirement already satisfied: typing-extensions>=3.7.4.1 in c:\\users\\artem\\appdata\\local\\programs\\python\\python312\\lib\\site-packages (from foolbox) (4.12.2)\n",
      "Requirement already satisfied: requests>=2.24.0 in c:\\users\\artem\\appdata\\local\\programs\\python\\python312\\lib\\site-packages (from foolbox) (2.32.3)\n",
      "Requirement already satisfied: gitdb<5,>=4.0.1 in c:\\users\\artem\\appdata\\local\\programs\\python\\python312\\lib\\site-packages (from GitPython>=3.0.7->foolbox) (4.0.11)\n",
      "Requirement already satisfied: charset-normalizer<4,>=2 in c:\\users\\artem\\appdata\\local\\programs\\python\\python312\\lib\\site-packages (from requests>=2.24.0->foolbox) (3.3.2)\n",
      "Requirement already satisfied: idna<4,>=2.5 in c:\\users\\artem\\appdata\\local\\programs\\python\\python312\\lib\\site-packages (from requests>=2.24.0->foolbox) (3.9)\n",
      "Requirement already satisfied: urllib3<3,>=1.21.1 in c:\\users\\artem\\appdata\\local\\programs\\python\\python312\\lib\\site-packages (from requests>=2.24.0->foolbox) (2.2.3)\n",
      "Requirement already satisfied: certifi>=2017.4.17 in c:\\users\\artem\\appdata\\local\\programs\\python\\python312\\lib\\site-packages (from requests>=2.24.0->foolbox) (2024.8.30)\n",
      "Requirement already satisfied: smmap<6,>=3.0.1 in c:\\users\\artem\\appdata\\local\\programs\\python\\python312\\lib\\site-packages (from gitdb<5,>=4.0.1->GitPython>=3.0.7->foolbox) (5.0.1)\n"
     ]
    },
    {
     "name": "stderr",
     "output_type": "stream",
     "text": [
      "\n",
      "[notice] A new release of pip is available: 24.2 -> 24.3.1\n",
      "[notice] To update, run: python.exe -m pip install --upgrade pip\n"
     ]
    }
   ],
   "source": [
    "!pip install foolbox"
   ]
  },
  {
   "cell_type": "code",
   "execution_count": 25,
   "metadata": {
    "colab": {
     "base_uri": "https://localhost:8080/",
     "height": 429
    },
    "id": "ySy0YHHJNWwo",
    "outputId": "2251eb53-5275-495b-fe73-e3aa0237359a"
   },
   "outputs": [
    {
     "name": "stdout",
     "output_type": "stream",
     "text": [
      "tf.Tensor(7, shape=(), dtype=int64)\n"
     ]
    }
   ],
   "source": [
    "# Инициализация Foolbox модели\n",
    "fmodel = fb.TensorFlowModel(model, bounds=(-1, 1))\n",
    "\n",
    "image = tf.convert_to_tensor(test_images[2], dtype=tf.float32)[None, ...]\n",
    "label = np.argmax(test_labels[0])\n",
    "label = tf.convert_to_tensor(label, dtype=tf.int64)\n",
    "\n",
    "attack = fb.attacks.LinfPGD(steps=10)\n",
    "print(label)\n",
    "advs, _, success = attack(fmodel, image, label[None], epsilons=0.01)"
   ]
  },
  {
   "cell_type": "code",
   "execution_count": 26,
   "metadata": {},
   "outputs": [
    {
     "data": {
      "image/png": "[encoded data removed]",
      "text/plain": [
       "<Figure size 1000x500 with 2 Axes>"
      ]
     },
     "metadata": {},
     "output_type": "display_data"
    }
   ],
   "source": [
    "# Вывод результатов\n",
    "plt.figure(figsize=(10, 5))\n",
    "plt.subplot(1, 2, 1)\n",
    "plt.title(\"Оригинальное изображение\")\n",
    "plt.imshow(image[0].numpy(), cmap=\"gray\")\n",
    "plt.axis('off')\n",
    "\n",
    "plt.subplot(1, 2, 2)\n",
    "plt.title(\"Противоречивое изображение (PGD)\")\n",
    "plt.imshow(advs[0].numpy(), cmap=\"gray\")\n",
    "plt.axis('off')\n",
    "\n",
    "plt.show()"
   ]
  },
  {
   "cell_type": "code",
   "execution_count": 27,
   "metadata": {
    "colab": {
     "base_uri": "https://localhost:8080/"
    },
    "id": "LGP6uDGAZvJX",
    "outputId": "6030dc4c-c571-48bf-b0ce-54135725dcf2"
   },
   "outputs": [
    {
     "name": "stdout",
     "output_type": "stream",
     "text": [
      "\u001b[1m313/313\u001b[0m \u001b[32m━━━━━━━━━━━━━━━━━━━━\u001b[0m\u001b[37m\u001b[0m \u001b[1m0s\u001b[0m 588us/step - accuracy: 0.4475 - loss: 2.1776\n",
      "Accuracy on adversarial examples (PGD): 0.5062000155448914\n"
     ]
    }
   ],
   "source": [
    "# Создание набора противоречивых примеров\n",
    "adversarial_images = []\n",
    "\n",
    "for i in range(len(test_images)):\n",
    "    image = tf.convert_to_tensor(test_images[i], dtype=tf.float32)[None, ...]\n",
    "    label = np.argmax(test_labels[i])\n",
    "    label = tf.convert_to_tensor(label, dtype=tf.int64)\n",
    "    advs, _, success = attack(fmodel, image, label[None], epsilons=0.1)\n",
    "    adversarial_images.append(advs)\n",
    "\n",
    "adversarial_images = tf.concat(adversarial_images, axis=0)\n",
    "\n",
    "adversarial_loss, adversarial_acc = model.evaluate(adversarial_images, test_labels)\n",
    "print(f'Accuracy on adversarial examples (PGD): {adversarial_acc}')"
   ]
  },
  {
   "cell_type": "markdown",
   "metadata": {},
   "source": [
    "# Вывод:\n",
    "Точность модели на атакованных примерах снизилась до примерно 50%, по сравнению с точностью на оригинальных данных, в зависимости от параметров силы и количества шагов атаки.\n",
    "\n",
    "Такое снижение точности свидетельствует о частичной уязвимости модели перед целенаправленными искажениями, созданными методом Projected Gradient Descent (PGD). Это подчеркивает необходимость разработки более устойчивых архитектур и методов защиты, чтобы повысить надежность модели в условиях реальных атак."
   ]
  }
 ],
 "metadata": {
  "accelerator": "GPU",
  "colab": {
   "gpuType": "T4",
   "provenance": []
  },
  "kernelspec": {
   "display_name": "Python 3",
   "name": "python3"
  },
  "language_info": {
   "codemirror_mode": {
    "name": "ipython",
    "version": 3
   },
   "file_extension": ".py",
   "mimetype": "text/x-python",
   "name": "python",
   "nbconvert_exporter": "python",
   "pygments_lexer": "ipython3",
   "version": "3.12.3"
  }
 },
 "nbformat": 4,
 "nbformat_minor": 0
}
